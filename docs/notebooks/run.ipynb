{
 "cells": [
  {
   "cell_type": "code",
   "execution_count": 1,
   "id": "2aa23fc9-e90b-42d2-b330-41e7e179e84e",
   "metadata": {},
   "outputs": [],
   "source": [
    "#default_exp run"
   ]
  },
  {
   "cell_type": "markdown",
   "id": "b0dcdd7b-f8a3-4db8-b9c2-6e3dea270f9c",
   "metadata": {},
   "source": [
    "# Run Notebooks\n",
    "\n",
    "> Lightweight running of notebooks without Papermill"
   ]
  },
  {
   "cell_type": "code",
   "execution_count": 2,
   "id": "1c095f49-6d75-4564-b65a-95b8058209d9",
   "metadata": {},
   "outputs": [],
   "source": [
    "#export\n",
    "from os import sys\n",
    "import nbformat\n",
    "import jupyter_client\n",
    "from nbformat.notebooknode import NotebookNode\n",
    "from nbclient.exceptions import CellExecutionError\n",
    "from nbdev.test import NoExportPreprocessor\n",
    "from nbdev.export import nbglob\n",
    "from typing import Union\n",
    "from fastcore.parallel import parallel\n",
    "from fastcore.script import call_parse\n",
    "from fastcore.foundation import L\n",
    "from fastcore.xtras import Path"
   ]
  },
  {
   "cell_type": "code",
   "execution_count": 3,
   "id": "a351baef-b35e-41ee-ba9f-6603f698642a",
   "metadata": {},
   "outputs": [],
   "source": [
    "#export\n",
    "def _gen_nb():\n",
    "    \"Generates a temporary notebook for testing.\"\n",
    "    p = Path('test_files/exec.txt')\n",
    "    newP = p.with_suffix('.ipynb')\n",
    "    text = p.read_text()\n",
    "    newP.write_text(text)\n",
    "    return newP"
   ]
  },
  {
   "cell_type": "code",
   "execution_count": 4,
   "id": "1dadbf86-bafe-4060-a5b4-b4b9fafa962f",
   "metadata": {},
   "outputs": [],
   "source": [
    "#export\n",
    "def _get_kernel(nb):\n",
    "    \"Sees if kernelname exists otherwise uses the default of `python3`\"\n",
    "    nb_ks = nb.metadata.kernelspec.name\n",
    "    K = jupyter_client.kernelspec.KernelSpecManager()\n",
    "    ks = K.find_kernel_specs()\n",
    "    return nb_ks if nb_ks in ks else 'python3'"
   ]
  },
  {
   "cell_type": "code",
   "execution_count": 5,
   "id": "9e99ab2a-3e41-4ab1-9bcb-2b5b22f78a66",
   "metadata": {},
   "outputs": [],
   "source": [
    "#export\n",
    "def nbrun(fname:Union[str, Path], flags=None) -> NotebookNode:\n",
    "    \"Execute notebook and skip cells that have flags consistent `tst_flags` in settings.ini\"\n",
    "    file = Path(fname)\n",
    "    assert file.name.endswith('.ipynb'), f'{str(fname)} is not a notebook.'\n",
    "    assert file.is_file(), f'file {str(fname)} not found.'\n",
    "    nb = nbformat.read(file, as_version=4)\n",
    "    if flags is None: flags = []\n",
    "    kernel = _get_kernel(nb)\n",
    "    print(f\"running: {str(file)} with kernel: {kernel}\")\n",
    "    exp = NoExportPreprocessor(flags=flags, timeout=1500, kernel_name=kernel)\n",
    "    pnb,_ = exp.preprocess(nb, resources={'metadata': {'path': file.parent}})\n",
    "    return pnb"
   ]
  },
  {
   "cell_type": "code",
   "execution_count": 6,
   "id": "699f8118-5de7-45dd-850f-0191a2adcf79",
   "metadata": {},
   "outputs": [
    {
     "name": "stdout",
     "output_type": "stream",
     "text": [
      "running: test_files/exec.ipynb with kernel: python397jvsc74a57bd042fd40e048e0585f88ec242f050f7ef0895cf845a8dd1159352394e5826cd102\n"
     ]
    }
   ],
   "source": [
    "_tmp_nb = _gen_nb()\n",
    "assert '3157' not in _tmp_nb.read_text() #value does not exist before execution\n",
    "_results = str(nbrun(_tmp_nb))\n",
    "assert '3157' in _results # value exists after execution\n",
    "assert '98343 + 2' in _results and '98345' not in _results # cells with flags do not get executed"
   ]
  },
  {
   "cell_type": "code",
   "execution_count": 7,
   "id": "957d82a4-dee8-4157-84b4-206221079d9d",
   "metadata": {},
   "outputs": [],
   "source": [
    "#export\n",
    "def nbupdate(fname:Union[str, Path], flags=None):\n",
    "    \"Run notebooks and update them in place.\"\n",
    "    try:\n",
    "        nb = nbrun(fname, flags=flags)\n",
    "    except CellExecutionError as e:\n",
    "        print(f'Error in {str(fname)}:\\n{e}')\n",
    "        return False\n",
    "    print(f\"finished: {str(fname)}\")\n",
    "    nbformat.write(nb, fname)\n",
    "    return True"
   ]
  },
  {
   "cell_type": "code",
   "execution_count": 8,
   "id": "00179c4c-76e4-4d93-b85e-6522d26e5a65",
   "metadata": {},
   "outputs": [
    {
     "name": "stdout",
     "output_type": "stream",
     "text": [
      "running: test_files/exec.ipynb with kernel: python397jvsc74a57bd042fd40e048e0585f88ec242f050f7ef0895cf845a8dd1159352394e5826cd102\n",
      "finished: test_files/exec.ipynb\n"
     ]
    }
   ],
   "source": [
    "_tmp_nb = _gen_nb()\n",
    "assert '3157' not in _tmp_nb.read_text() # doesn't exist b/c notebook hasn't been run\n",
    "nbupdate(_tmp_nb)\n",
    "assert '3157' in _tmp_nb.read_text() # exists now b/c notebook has been run"
   ]
  },
  {
   "cell_type": "code",
   "execution_count": 9,
   "id": "fb1ed3e7-d87b-4611-98b1-81e1621a4c23",
   "metadata": {},
   "outputs": [],
   "source": [
    "#export\n",
    "def parallel_nbupdate(basedir:Union[Path,str], flags=None, recursive=True, n_workers=None, pause=0.1):\n",
    "    \"Run all notebooks in `dir` and save them in place.\"\n",
    "    files = L(nbglob(basedir, recursive=recursive)).filter(lambda x: not x.name.startswith('Untitled'))\n",
    "    if len(files)==1:\n",
    "        if n_workers is None: n_workers=0\n",
    "    if sys.platform == \"win32\": n_workers = 0\n",
    "    passed = parallel(nbupdate, files, flags=flags, n_workers=n_workers, pause=pause)\n",
    "    if all(passed): print(\"All notebooks refreshed!\")\n",
    "    else:\n",
    "        msg = \"Notebook Run & Update failed on the following:\\n\"\n",
    "        raise Exception(msg + '\\n'.join([f.name for p,f in zip(passed,files) if not p]))"
   ]
  },
  {
   "cell_type": "code",
   "execution_count": 10,
   "id": "d136647e-86c9-4174-9ab7-84a326d3ad83",
   "metadata": {},
   "outputs": [
    {
     "name": "stdout",
     "output_type": "stream",
     "text": [
      "running: test_files/exec.ipynb with kernel: python397jvsc74a57bd042fd40e048e0585f88ec242f050f7ef0895cf845a8dd1159352394e5826cd102\n",
      "finished: test_files/exec.ipynb\n",
      "All notebooks refreshed!\n"
     ]
    }
   ],
   "source": [
    "_test_nb = _gen_nb()\n",
    "assert not '3157' in _test_nb.read_text()\n",
    "parallel_nbupdate(_test_nb)\n",
    "assert '3157' in _test_nb.read_text()"
   ]
  },
  {
   "cell_type": "code",
   "execution_count": 11,
   "id": "9696b435-1ff0-44a7-881d-2e8e5d589fd6",
   "metadata": {},
   "outputs": [],
   "source": [
    "#export\n",
    "@call_parse\n",
    "def nbdoc_update(\n",
    "    srcdir:str=None,  # A directory of notebooks to refresh recursively, can also be a filename.\n",
    "    flags:str=None,  # Space separated list of flags (tst_flags in settings.ini) to NOT ignore while running notebooks.  Otherwise, those cells are ignored.\n",
    "    n_workers:int=None,  # Number of workers to use\n",
    "    pause:float=0.5  # Pause time (in secs) between notebooks to avoid race conditions\n",
    "):\n",
    "    \"Refresh all notebooks in `srcdir` by running them and saving them in place.\"\n",
    "    parallel_nbupdate(basedir=srcdir,\n",
    "                      flags=flags,\n",
    "                      recursive=True, \n",
    "                      n_workers=n_workers, \n",
    "                      pause=pause)"
   ]
  }
 ],
 "metadata": {
  "kernelspec": {
   "display_name": "Python 3 (ipykernel)",
   "language": "python",
   "name": "python3"
  },
  "language_info": {
   "codemirror_mode": {
    "name": "ipython",
    "version": 3
   },
   "file_extension": ".py",
   "mimetype": "text/x-python",
   "name": "python",
   "nbconvert_exporter": "python",
   "pygments_lexer": "ipython3",
   "version": "3.9.7"
  }
 },
 "nbformat": 4,
 "nbformat_minor": 5
}
