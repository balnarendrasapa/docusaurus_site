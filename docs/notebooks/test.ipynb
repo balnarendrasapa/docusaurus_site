{
 "cells": [
  {
   "cell_type": "markdown",
   "id": "8ed2c839-a823-452d-8304-2058615fe11c",
   "metadata": {},
   "source": [
    "# Testing Notebooks\n",
    "> Testing of notebooks used for documentation"
   ]
  },
  {
   "cell_type": "markdown",
   "id": "67de592b-98a3-487a-973a-6956ae5a466e",
   "metadata": {},
   "source": [
    "You can use `nbdev_test_nbs` from [nbdev](https://nbdev.fast.ai/test.html#nbdev_test_nbs) to test notebooks.  No customization is necessary for docs sites.  This is aliased as `nbdoc_test` for convenience:"
   ]
  },
  {
   "cell_type": "code",
   "execution_count": 1,
   "id": "4360fb32-6dca-485c-841f-4d3d0a4c37b4",
   "metadata": {},
   "outputs": [
    {
     "name": "stdout",
     "output_type": "stream",
     "text": [
      "usage: nbdoc_test [-h] [--fname FNAME] [--flags FLAGS] [--n_workers N_WORKERS]\n",
      "                  [--verbose VERBOSE] [--timing] [--pause PAUSE]\n",
      "\n",
      "Test in parallel the notebooks matching `fname`, passing along `flags`\n",
      "\n",
      "optional arguments:\n",
      "  -h, --help             show this help message and exit\n",
      "  --fname FNAME          A notebook name or glob to convert\n",
      "  --flags FLAGS          Space separated list of flags\n",
      "  --n_workers N_WORKERS  Number of workers to use\n",
      "  --verbose VERBOSE      Print errors along the way (default: True)\n",
      "  --timing               Timing each notebook to see the ones are slow (default:\n",
      "                         False)\n",
      "  --pause PAUSE          Pause time (in secs) between notebooks to avoid race\n",
      "                         conditions (default: 0.5)\n"
     ]
    }
   ],
   "source": [
    "!nbdoc_test --help"
   ]
  },
  {
   "cell_type": "markdown",
   "id": "207df9b4-4b82-4c25-a452-d22eddadc6ea",
   "metadata": {},
   "source": [
    "To use `nbdev_test_nbs`, you must also define a `settings.ini` file at the root of the repo.  For documentation based testing, we recommend setting the following variables:\n",
    "\n",
    "- recursive = True\n",
    "- tst_flags = notest\n",
    "\n",
    "`tst_flags = notest` allow you to make commments on cells like `#notest` to allow tests to skip a specific cell.  This is useful for skipping long-running tests.  You can [read more about this here](https://nbdev.fast.ai/test.html#nbdev_test_nbs).\n",
    "\n",
    "`recursive = True` sets the default behavior of `nbdev_test_nbs` to `True` which is probably is what you want for a documentation site with many folders nested arbitrarily deep that may contain notebooks.\n",
    "\n",
    "Here is this project's `settings.ini` (note that the `recursive` flag is set to `False` as this project is not a documentation site):"
   ]
  },
  {
   "cell_type": "code",
   "execution_count": 2,
   "id": "f954bb3c-d0ed-4536-8d06-8dfe9fd7a5bf",
   "metadata": {},
   "outputs": [
    {
     "name": "stdout",
     "output_type": "stream",
     "text": [
      "[DEFAULT]\n",
      "host = github\n",
      "lib_name = nbdoc\n",
      "user = outerbounds\n",
      "description = Generate beautiful, testable documentation with Jupyter Notebooks\n",
      "keywords = documentation python jupyter notebook\n",
      "author = Hamel Husain\n",
      "author_email = hamel@outerbounds.com\n",
      "copyright = Outerbounds\n",
      "branch = master\n",
      "version = 0.0.6\n",
      "min_python = 3.6\n",
      "audience = Developers\n",
      "language = English\n",
      "custom_sidebar = False\n",
      "license = apache2\n",
      "status = 2\n",
      "requirements = nbdev fastcore\n",
      "nbs_path = nbs\n",
      "doc_path = docs\n",
      "recursive = False\n",
      "doc_host = https://outerbounds.github.io\n",
      "doc_baseurl = /nbdoc/\n",
      "git_url = https://github.com/outerbounds/nbdoc/tree/master/\n",
      "lib_path = nbdoc\n",
      "title = nbdoc\n",
      "console_scripts = nbdoc_build=nbdoc.convert:nbdoc_build\n",
      "\tnbdoc_test=nbdev.test:nbdev_test_nbs\n",
      "tst_flags = notest\n",
      "\n"
     ]
    }
   ],
   "source": [
    "!cat ../settings.ini"
   ]
  },
  {
   "cell_type": "code",
   "execution_count": 3,
   "id": "0c1302ee-821e-452c-b145-a26aecf91732",
   "metadata": {},
   "outputs": [
    {
     "name": "stdout",
     "output_type": "stream",
     "text": [
      "testing /Users/hamel/github/nbdoc/nbs/test_files/example_input.ipynb\n",
      "All tests are passing!\n"
     ]
    }
   ],
   "source": [
    "#notest\n",
    "from nbdev.test import nbdev_test_nbs\n",
    "nbdev_test_nbs('test_files/example_input.ipynb', n_workers=0)"
   ]
  },
  {
   "cell_type": "code",
   "execution_count": 4,
   "id": "bbad4580-52e2-4494-b39b-31c2a8ba5283",
   "metadata": {},
   "outputs": [
    {
     "name": "stdout",
     "output_type": "stream",
     "text": [
      "testing /Users/hamel/github/nbdoc/nbs/test_files/example_input.ipynb\n",
      "testing /Users/hamel/github/nbdoc/nbs/test_files/hello_world.ipynb\n",
      "testing /Users/hamel/github/nbdoc/nbs/test_files/run_flow.ipynb\n",
      "testing /Users/hamel/github/nbdoc/nbs/test_files/run_flow_showstep.ipynb\n",
      "testing /Users/hamel/github/nbdoc/nbs/test_files/writefile.ipynb\n",
      "All tests are passing!\n"
     ]
    }
   ],
   "source": [
    "#notest\n",
    "nbdev_test_nbs('test_files/', n_workers=0)"
   ]
  }
 ],
 "metadata": {
  "kernelspec": {
   "display_name": "Python 3 (ipykernel)",
   "language": "python",
   "name": "python3"
  },
  "language_info": {
   "codemirror_mode": {
    "name": "ipython",
    "version": 3
   },
   "file_extension": ".py",
   "mimetype": "text/x-python",
   "name": "python",
   "nbconvert_exporter": "python",
   "pygments_lexer": "ipython3",
   "version": "3.9.7"
  }
 },
 "nbformat": 4,
 "nbformat_minor": 5
}
