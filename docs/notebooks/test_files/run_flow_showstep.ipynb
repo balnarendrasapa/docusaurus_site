{
 "cells": [
  {
   "cell_type": "code",
   "execution_count": null,
   "id": "0907a2b3-6814-45ab-9d3d-8e04d5fb700d",
   "metadata": {},
   "outputs": [
    {
     "name": "stdout",
     "output_type": "stream",
     "text": [
      "\u001b[35m\u001b[1mMetaflow 2.5.0.post6+git62f5e52\u001b[0m\u001b[35m\u001b[22m executing \u001b[0m\u001b[31m\u001b[1mMyFlow\u001b[0m\u001b[35m\u001b[22m\u001b[0m\u001b[35m\u001b[22m for \u001b[0m\u001b[31m\u001b[1muser:hamel\u001b[0m\u001b[35m\u001b[22m\u001b[K\u001b[0m\u001b[35m\u001b[22m\u001b[0m\n",
      "\u001b[35m\u001b[22mValidating your flow...\u001b[K\u001b[0m\u001b[35m\u001b[22m\u001b[0m\n",
      "\u001b[32m\u001b[1m    The graph looks good!\u001b[K\u001b[0m\u001b[32m\u001b[1m\u001b[0m\n",
      "\u001b[35m\u001b[22mRunning pylint...\u001b[K\u001b[0m\u001b[35m\u001b[22m\u001b[0m\n",
      "\u001b[32m\u001b[1m    Pylint is happy!\u001b[K\u001b[0m\u001b[32m\u001b[1m\u001b[0m\n",
      "\u001b[35m2022-02-15 14:01:14.804 \u001b[0m\u001b[1mWorkflow starting (run-id 1644962474801237):\u001b[0m\n",
      "\u001b[35m2022-02-15 14:01:14.810 \u001b[0m\u001b[32m[1644962474801237/start/1 (pid 46758)] \u001b[0m\u001b[1mTask is starting.\u001b[0m\n",
      "\u001b[35m2022-02-15 14:01:15.433 \u001b[0m\u001b[32m[1644962474801237/start/1 (pid 46758)] \u001b[0m\u001b[22mthis is the start\u001b[0m\n",
      "\u001b[35m2022-02-15 14:01:15.500 \u001b[0m\u001b[32m[1644962474801237/start/1 (pid 46758)] \u001b[0m\u001b[1mTask finished successfully.\u001b[0m\n",
      "\u001b[35m2022-02-15 14:01:15.507 \u001b[0m\u001b[32m[1644962474801237/train/2 (pid 46763)] \u001b[0m\u001b[1mTask is starting.\u001b[0m\n",
      "\u001b[35m2022-02-15 14:01:16.123 \u001b[0m\u001b[32m[1644962474801237/train/2 (pid 46763)] \u001b[0m\u001b[22mthe train step\u001b[0m\n",
      "\u001b[35m2022-02-15 14:01:16.188 \u001b[0m\u001b[32m[1644962474801237/train/2 (pid 46763)] \u001b[0m\u001b[1mTask finished successfully.\u001b[0m\n",
      "\u001b[35m2022-02-15 14:01:16.195 \u001b[0m\u001b[32m[1644962474801237/end/3 (pid 46768)] \u001b[0m\u001b[1mTask is starting.\u001b[0m\n",
      "\u001b[35m2022-02-15 14:01:16.822 \u001b[0m\u001b[32m[1644962474801237/end/3 (pid 46768)] \u001b[0m\u001b[22mthis is the end\u001b[0m\n",
      "\u001b[35m2022-02-15 14:01:16.887 \u001b[0m\u001b[32m[1644962474801237/end/3 (pid 46768)] \u001b[0m\u001b[1mTask finished successfully.\u001b[0m\n",
      "\u001b[35m2022-02-15 14:01:16.887 \u001b[0m\u001b[1mDone!\u001b[0m\n",
      "\u001b[0m"
     ]
    }
   ],
   "source": [
    "#cell_meta:show_steps=start,train\n",
    "!python myflow.py run"
   ]
  },
  {
   "cell_type": "code",
   "execution_count": null,
   "id": "e7ead802-3bdb-434e-ac4f-fe3846d2f8d0",
   "metadata": {},
   "outputs": [
    {
     "name": "stdout",
     "output_type": "stream",
     "text": [
      "\u001b[35m\u001b[1mMetaflow 2.5.0.post6+git62f5e52\u001b[0m\u001b[35m\u001b[22m executing \u001b[0m\u001b[31m\u001b[1mMyFlow\u001b[0m\u001b[35m\u001b[22m\u001b[0m\u001b[35m\u001b[22m for \u001b[0m\u001b[31m\u001b[1muser:hamel\u001b[0m\u001b[35m\u001b[22m\u001b[K\u001b[0m\u001b[35m\u001b[22m\u001b[0m\n",
      "\u001b[35m\u001b[22mValidating your flow...\u001b[K\u001b[0m\u001b[35m\u001b[22m\u001b[0m\n",
      "\u001b[32m\u001b[1m    The graph looks good!\u001b[K\u001b[0m\u001b[32m\u001b[1m\u001b[0m\n",
      "\u001b[35m\u001b[22mRunning pylint...\u001b[K\u001b[0m\u001b[35m\u001b[22m\u001b[0m\n",
      "\u001b[32m\u001b[1m    Pylint is happy!\u001b[K\u001b[0m\u001b[32m\u001b[1m\u001b[0m\n",
      "\u001b[35m2022-02-15 14:01:18.213 \u001b[0m\u001b[1mWorkflow starting (run-id 1644962478210532):\u001b[0m\n",
      "\u001b[35m2022-02-15 14:01:18.219 \u001b[0m\u001b[32m[1644962478210532/start/1 (pid 46778)] \u001b[0m\u001b[1mTask is starting.\u001b[0m\n",
      "\u001b[35m2022-02-15 14:01:18.849 \u001b[0m\u001b[32m[1644962478210532/start/1 (pid 46778)] \u001b[0m\u001b[22mthis is the start\u001b[0m\n",
      "\u001b[35m2022-02-15 14:01:18.917 \u001b[0m\u001b[32m[1644962478210532/start/1 (pid 46778)] \u001b[0m\u001b[1mTask finished successfully.\u001b[0m\n",
      "\u001b[35m2022-02-15 14:01:18.924 \u001b[0m\u001b[32m[1644962478210532/train/2 (pid 46783)] \u001b[0m\u001b[1mTask is starting.\u001b[0m\n",
      "\u001b[35m2022-02-15 14:01:19.566 \u001b[0m\u001b[32m[1644962478210532/train/2 (pid 46783)] \u001b[0m\u001b[22mthe train step\u001b[0m\n",
      "\u001b[35m2022-02-15 14:01:19.632 \u001b[0m\u001b[32m[1644962478210532/train/2 (pid 46783)] \u001b[0m\u001b[1mTask finished successfully.\u001b[0m\n",
      "\u001b[35m2022-02-15 14:01:19.639 \u001b[0m\u001b[32m[1644962478210532/end/3 (pid 46788)] \u001b[0m\u001b[1mTask is starting.\u001b[0m\n",
      "\u001b[35m2022-02-15 14:01:20.254 \u001b[0m\u001b[32m[1644962478210532/end/3 (pid 46788)] \u001b[0m\u001b[22mthis is the end\u001b[0m\n",
      "\u001b[35m2022-02-15 14:01:20.321 \u001b[0m\u001b[32m[1644962478210532/end/3 (pid 46788)] \u001b[0m\u001b[1mTask finished successfully.\u001b[0m\n",
      "\u001b[35m2022-02-15 14:01:20.322 \u001b[0m\u001b[1mDone!\u001b[0m\n",
      "\u001b[0m"
     ]
    }
   ],
   "source": [
    "#cell_meta:show_steps=train\n",
    "!python myflow.py run"
   ]
  }
 ],
 "metadata": {
  "kernelspec": {
   "display_name": "Python 3.9.7 ('base')",
   "language": "python",
   "name": "python397jvsc74a57bd042fd40e048e0585f88ec242f050f7ef0895cf845a8dd1159352394e5826cd102"
  }
 },
 "nbformat": 4,
 "nbformat_minor": 5
}
