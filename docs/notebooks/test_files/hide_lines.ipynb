{
 "cells": [
  {
   "cell_type": "code",
   "execution_count": 19,
   "id": "dc837e87-287a-4016-84fc-6daab926efc2",
   "metadata": {},
   "outputs": [],
   "source": [
    "def show():\n",
    "    a = 2\n",
    "    b = 3 #meta_hide_line"
   ]
  }
 ],
 "metadata": {
  "kernelspec": {
   "display_name": "Python 3.9.7 ('base')",
   "language": "python",
   "name": "python397jvsc74a57bd042fd40e048e0585f88ec242f050f7ef0895cf845a8dd1159352394e5826cd102"
  },
  "language_info": {
   "codemirror_mode": {
    "name": "ipython",
    "version": 3
   },
   "file_extension": ".py",
   "mimetype": "text/x-python",
   "name": "python",
   "nbconvert_exporter": "python",
   "pygments_lexer": "ipython3",
   "version": "3.9.7"
  }
 },
 "nbformat": 4,
 "nbformat_minor": 5
}
