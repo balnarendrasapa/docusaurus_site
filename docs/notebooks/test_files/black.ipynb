{
 "cells": [
  {
   "cell_type": "markdown",
   "id": "b5d02c96-9947-4983-9eb6-8e40cd8dd7fd",
   "metadata": {},
   "source": [
    "Format with black"
   ]
  },
  {
   "cell_type": "code",
   "execution_count": null,
   "id": "9f134894-ab4d-4fd9-9483-15c0b848ebe6",
   "metadata": {},
   "outputs": [],
   "source": [
    "#meta:tag=black\n",
    "j = [1,\n",
    "     2,\n",
    "     3\n",
    "]"
   ]
  },
  {
   "cell_type": "code",
   "execution_count": null,
   "id": "1d246c34-6c65-4fa5-ac16-87c7051c3077",
   "metadata": {},
   "outputs": [],
   "source": [
    "%%writefile black_test.py\n",
    "#meta:tag=black\n",
    "\n",
    "\n",
    "def very_important_function(template: str, *variables, file: os.PathLike, engine: str, header: bool = True, debug: bool = False):\n",
    "    \"\"\"Applies `variables` to the `template` and writes to `file`.\"\"\"\n",
    "    with open(file, 'w') as f:\n",
    "        pass"
   ]
  }
 ],
 "metadata": {
  "kernelspec": {
   "display_name": "Python 3.9.7 ('base')",
   "language": "python",
   "name": "python397jvsc74a57bd042fd40e048e0585f88ec242f050f7ef0895cf845a8dd1159352394e5826cd102"
  },
  "language_info": {
   "codemirror_mode": {
    "name": "ipython",
    "version": 3
   },
   "file_extension": ".py",
   "mimetype": "text/x-python",
   "name": "python",
   "nbconvert_exporter": "python",
   "pygments_lexer": "ipython3",
   "version": "3.9.7"
  }
 },
 "nbformat": 4,
 "nbformat_minor": 5
}
