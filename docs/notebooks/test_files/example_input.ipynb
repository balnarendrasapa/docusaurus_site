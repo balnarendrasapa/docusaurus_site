{
 "cells": [
  {
   "cell_type": "raw",
   "id": "c95703db",
   "metadata": {},
   "source": [
    "---\n",
    "title: my hello page title\n",
    "description: my hello page description\n",
    "hide_table_of_contents: true\n",
    "---"
   ]
  },
  {
   "cell_type": "markdown",
   "id": "4e9507e5-4b07-4991-be57-3ee60c0a34f3",
   "metadata": {},
   "source": [
    "## This is a test notebook"
   ]
  },
  {
   "cell_type": "markdown",
   "id": "a26f9811-95c0-4b85-90db-a0323c0029d1",
   "metadata": {},
   "source": [
    "This is a shell command:"
   ]
  },
  {
   "cell_type": "code",
   "execution_count": 1,
   "id": "6517a3a2",
   "metadata": {},
   "outputs": [
    {
     "name": "stdout",
     "output_type": "stream",
     "text": [
      "hello\n"
     ]
    }
   ],
   "source": [
    "! echo hello"
   ]
  },
  {
   "cell_type": "markdown",
   "id": "4e64c3ce-980b-41fa-9242-d37af42db90e",
   "metadata": {},
   "source": [
    "We are writing a python script to disk:"
   ]
  },
  {
   "cell_type": "code",
   "execution_count": 2,
   "id": "09477a73",
   "metadata": {},
   "outputs": [
    {
     "name": "stdout",
     "output_type": "stream",
     "text": [
      "Overwriting myflow.py\n"
     ]
    }
   ],
   "source": [
    "%%writefile myflow.py\n",
    "\n",
    "from metaflow import FlowSpec, step\n",
    "\n",
    "class MyFlow(FlowSpec):\n",
    "    \n",
    "    @step\n",
    "    def start(self):\n",
    "        print('this is the start')\n",
    "        self.next(self.end)\n",
    "    \n",
    "    @step\n",
    "    def end(self):\n",
    "        print('this is the end')\n",
    "\n",
    "if __name__ == '__main__':\n",
    "    MyFlow()"
   ]
  },
  {
   "cell_type": "markdown",
   "id": "4b75f7ed-ff22-447f-8291-24f76bd1be74",
   "metadata": {},
   "source": [
    "Another shell command where we run a flow:"
   ]
  },
  {
   "cell_type": "code",
   "execution_count": 3,
   "id": "38089c35-4919-4129-b798-c4ed729bede2",
   "metadata": {},
   "outputs": [
    {
     "name": "stdout",
     "output_type": "stream",
     "text": [
      "\u001b[35m\u001b[1mMetaflow 2.5.3\u001b[0m\u001b[35m\u001b[22m executing \u001b[0m\u001b[31m\u001b[1mMyFlow\u001b[0m\u001b[35m\u001b[22m\u001b[0m\u001b[35m\u001b[22m for \u001b[0m\u001b[31m\u001b[1muser:hamel\u001b[0m\u001b[35m\u001b[22m\u001b[K\u001b[0m\u001b[35m\u001b[22m\u001b[0m\n",
      "\u001b[35m\u001b[22mValidating your flow...\u001b[K\u001b[0m\u001b[35m\u001b[22m\u001b[0m\n",
      "\u001b[32m\u001b[1m    The graph looks good!\u001b[K\u001b[0m\u001b[32m\u001b[1m\u001b[0m\n",
      "\u001b[35m\u001b[22mRunning pylint...\u001b[K\u001b[0m\u001b[35m\u001b[22m\u001b[0m\n",
      "\u001b[32m\u001b[1m    Pylint is happy!\u001b[K\u001b[0m\u001b[32m\u001b[1m\u001b[0m\n",
      "\u001b[35m2022-03-10 22:52:37.069 \u001b[0m\u001b[1mWorkflow starting (run-id 1646981557065941):\u001b[0m\n",
      "\u001b[35m2022-03-10 22:52:37.077 \u001b[0m\u001b[32m[1646981557065941/start/1 (pid 54733)] \u001b[0m\u001b[1mTask is starting.\u001b[0m\n",
      "\u001b[35m2022-03-10 22:52:37.752 \u001b[0m\u001b[32m[1646981557065941/start/1 (pid 54733)] \u001b[0m\u001b[22mthis is the start\u001b[0m\n",
      "\u001b[35m2022-03-10 22:52:37.841 \u001b[0m\u001b[32m[1646981557065941/start/1 (pid 54733)] \u001b[0m\u001b[1mTask finished successfully.\u001b[0m\n",
      "\u001b[35m2022-03-10 22:52:37.849 \u001b[0m\u001b[32m[1646981557065941/end/2 (pid 54736)] \u001b[0m\u001b[1mTask is starting.\u001b[0m\n",
      "\u001b[35m2022-03-10 22:52:38.519 \u001b[0m\u001b[32m[1646981557065941/end/2 (pid 54736)] \u001b[0m\u001b[22mthis is the end\u001b[0m\n",
      "\u001b[35m2022-03-10 22:52:38.604 \u001b[0m\u001b[32m[1646981557065941/end/2 (pid 54736)] \u001b[0m\u001b[1mTask finished successfully.\u001b[0m\n",
      "\u001b[35m2022-03-10 22:52:38.604 \u001b[0m\u001b[1mDone!\u001b[0m\n",
      "\u001b[0m"
     ]
    }
   ],
   "source": [
    "#cell_meta:show_steps=start\n",
    "! python myflow.py run"
   ]
  },
  {
   "cell_type": "markdown",
   "id": "5be8ac71-2266-4de5-845f-a5fc5bfc1e5a",
   "metadata": {},
   "source": [
    "This is a normal python cell:"
   ]
  },
  {
   "cell_type": "code",
   "execution_count": 4,
   "id": "445a4764",
   "metadata": {},
   "outputs": [
    {
     "data": {
      "text/plain": [
       "2"
      ]
     },
     "execution_count": 4,
     "metadata": {},
     "output_type": "execute_result"
    }
   ],
   "source": [
    "a = 2\n",
    "a"
   ]
  },
  {
   "cell_type": "markdown",
   "id": "968c2484-ae4e-48ff-ba6c-fbe7d8a82721",
   "metadata": {},
   "source": [
    "The next cell has a cell tag of `remove_input`, so you should only see the output of the cell:"
   ]
  },
  {
   "cell_type": "code",
   "execution_count": 5,
   "id": "ba204318-fb9e-463a-a9ff-56ce3fc30f8b",
   "metadata": {},
   "outputs": [
    {
     "name": "stdout",
     "output_type": "stream",
     "text": [
      "hello, you should not see the print statement that produced me\n"
     ]
    }
   ],
   "source": [
    "#meta:tag=remove_input\n",
    "print('hello, you should not see the print statement that produced me')"
   ]
  },
  {
   "cell_type": "markdown",
   "id": "586ea04d-6638-4038-8aa5-af125e9d0325",
   "metadata": {},
   "source": [
    "Pandas DataFrame:"
   ]
  },
  {
   "cell_type": "code",
   "execution_count": 6,
   "id": "17c34988-a9ef-4e74-ac10-113ae46a16d3",
   "metadata": {},
   "outputs": [
    {
     "data": {
      "text/html": [
       "<div>\n",
       "<style scoped>\n",
       "    .dataframe tbody tr th:only-of-type {\n",
       "        vertical-align: middle;\n",
       "    }\n",
       "\n",
       "    .dataframe tbody tr th {\n",
       "        vertical-align: top;\n",
       "    }\n",
       "\n",
       "    .dataframe thead th {\n",
       "        text-align: right;\n",
       "    }\n",
       "</style>\n",
       "<table border=\"1\" class=\"dataframe\">\n",
       "  <thead>\n",
       "    <tr style=\"text-align: right;\">\n",
       "      <th></th>\n",
       "      <th>time_in_hospital</th>\n",
       "      <th>num_lab_procedures</th>\n",
       "      <th>num_procedures</th>\n",
       "    </tr>\n",
       "  </thead>\n",
       "  <tbody>\n",
       "    <tr>\n",
       "      <th>0</th>\n",
       "      <td>14</td>\n",
       "      <td>41</td>\n",
       "      <td>0</td>\n",
       "    </tr>\n",
       "    <tr>\n",
       "      <th>1</th>\n",
       "      <td>2</td>\n",
       "      <td>30</td>\n",
       "      <td>0</td>\n",
       "    </tr>\n",
       "    <tr>\n",
       "      <th>2</th>\n",
       "      <td>5</td>\n",
       "      <td>66</td>\n",
       "      <td>0</td>\n",
       "    </tr>\n",
       "  </tbody>\n",
       "</table>\n",
       "</div>"
      ],
      "text/plain": [
       "   time_in_hospital  num_lab_procedures  num_procedures\n",
       "0                14                  41               0\n",
       "1                 2                  30               0\n",
       "2                 5                  66               0"
      ]
     },
     "execution_count": 6,
     "metadata": {},
     "output_type": "execute_result"
    }
   ],
   "source": [
    "import pandas as pd\n",
    "pd.read_csv('https://github.com/outerbounds/.data/raw/main/hospital_readmission.csv').head(3).iloc[:, :3]"
   ]
  },
  {
   "cell_type": "markdown",
   "id": "d8d44020-90a6-4e2b-b2c2-a3307e376cae",
   "metadata": {},
   "source": [
    "A matplotlib plot:"
   ]
  },
  {
   "cell_type": "code",
   "execution_count": 7,
   "id": "759f24f4-033b-4267-aa18-9b21f335886c",
   "metadata": {},
   "outputs": [
    {
     "data": {
      "image/png": "[encoded data removed]",
      "text/plain": [
       "<Figure size 432x288 with 1 Axes>"
      ]
     },
     "metadata": {
      "needs_background": "light"
     },
     "output_type": "display_data"
    }
   ],
   "source": [
    "from matplotlib import pyplot as plt\n",
    "plt.plot(range(20), range(20))\n",
    "plt.plot(range(10), range(10))\n",
    "plt.show()"
   ]
  }
 ],
 "metadata": {
  "kernelspec": {
   "display_name": "Python 3 (ipykernel)",
   "language": "python",
   "name": "python3"
  },
  "language_info": {
   "codemirror_mode": {
    "name": "ipython",
    "version": 3
   },
   "file_extension": ".py",
   "mimetype": "text/x-python",
   "name": "python",
   "nbconvert_exporter": "python",
   "pygments_lexer": "ipython3",
   "version": "3.9.7"
  }
 },
 "nbformat": 4,
 "nbformat_minor": 5
}
