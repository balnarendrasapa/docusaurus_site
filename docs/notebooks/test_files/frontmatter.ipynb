{
 "cells": [
  {
   "cell_type": "raw",
   "id": "5b70c2ed-058a-444e-83b3-f6932e2c6b78",
   "metadata": {},
   "source": [
    "---\n",
    "title: Foo\n",
    "---"
   ]
  },
  {
   "cell_type": "code",
   "execution_count": null,
   "id": "cdefe319-fd52-43ef-982c-9c1f027d2054",
   "metadata": {},
   "outputs": [
    {
     "name": "stdout",
     "output_type": "stream",
     "text": [
      "hello\n"
     ]
    }
   ],
   "source": [
    "print('hello')"
   ]
  }
 ],
 "metadata": {
  "kernelspec": {
   "display_name": "Python 3.9.7 ('base')",
   "language": "python",
   "name": "python397jvsc74a57bd042fd40e048e0585f88ec242f050f7ef0895cf845a8dd1159352394e5826cd102"
  }
 },
 "nbformat": 4,
 "nbformat_minor": 5
}
