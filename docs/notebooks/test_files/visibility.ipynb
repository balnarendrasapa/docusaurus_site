{
 "cells": [
  {
   "cell_type": "markdown",
   "id": "9238a5f6-4d5b-481c-bdfa-b4525e6dcbd6",
   "metadata": {},
   "source": [
    "# Configuring Cell Visibility"
   ]
  },
  {
   "cell_type": "markdown",
   "id": "17e346a6-f8fa-4c79-bbc5-e8da6fd0e403",
   "metadata": {},
   "source": [
    "#### Cell with the comment `#cell_meta:tag=remove_output`"
   ]
  },
  {
   "cell_type": "code",
   "execution_count": null,
   "id": "ed3f3369-7bae-4d09-9281-5472b9882716",
   "metadata": {},
   "outputs": [
    {
     "name": "stdout",
     "output_type": "stream",
     "text": [
      "the output is removed, so you can only see the print statement.\n"
     ]
    }
   ],
   "source": [
    "#cell_meta:tag=remove_output\n",
    "print('the output is removed, so you can only see the print statement.')"
   ]
  },
  {
   "cell_type": "markdown",
   "id": "4a61e6d1-4246-48bf-9b65-b9a55f8f928a",
   "metadata": {},
   "source": [
    "#### Cell with the comment `#cell_meta:tag=remove_input`"
   ]
  },
  {
   "cell_type": "code",
   "execution_count": null,
   "id": "f99d18ef-3e26-4c42-8632-5e89497da62f",
   "metadata": {},
   "outputs": [
    {
     "name": "stdout",
     "output_type": "stream",
     "text": [
      "hello, you cannot see the code that created me.\n"
     ]
    }
   ],
   "source": [
    "#cell_meta:tag=remove_input\n",
    "print('hello, you cannot see the code that created me.')"
   ]
  },
  {
   "cell_type": "markdown",
   "id": "c2492557-f4c1-4e1a-8608-dd05abef6c2d",
   "metadata": {},
   "source": [
    "#### Cell with the comment `#cell_meta:tag=remove_cell`"
   ]
  },
  {
   "cell_type": "code",
   "execution_count": null,
   "id": "3d9ba017-04fb-4dfc-a86f-9db77c4d22f1",
   "metadata": {},
   "outputs": [
    {
     "name": "stdout",
     "output_type": "stream",
     "text": [
      "you will not be able to see this cell at all\n"
     ]
    }
   ],
   "source": [
    "#cell_meta:tag=remove_cell\n",
    "print('you will not be able to see this cell at all')"
   ]
  },
  {
   "cell_type": "code",
   "execution_count": null,
   "id": "147e204c-d95d-4ef5-b358-e47e89edc69a",
   "metadata": {},
   "outputs": [
    {
     "name": "stdout",
     "output_type": "stream",
     "text": [
      "you will not be able to see this cell at all either\n"
     ]
    }
   ],
   "source": [
    "#cell_meta:tags=remove_input,remove_output\n",
    "print('you will not be able to see this cell at all either')"
   ]
  }
 ],
 "metadata": {
  "kernelspec": {
   "display_name": "Python 3.9.7 ('base')",
   "language": "python",
   "name": "python397jvsc74a57bd042fd40e048e0585f88ec242f050f7ef0895cf845a8dd1159352394e5826cd102"
  }
 },
 "nbformat": 4,
 "nbformat_minor": 5
}
