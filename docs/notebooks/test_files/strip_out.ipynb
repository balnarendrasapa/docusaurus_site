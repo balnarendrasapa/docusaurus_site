{
 "cells": [
  {
   "cell_type": "code",
   "execution_count": 3,
   "id": "8cbfc185-1a0d-4847-8fb1-5d3ca29676d8",
   "metadata": {},
   "outputs": [
    {
     "name": "stdout",
     "output_type": "stream",
     "text": [
      "/Users/hamel/opt/anaconda3/lib/python3.9/site-packages/xgboost/compat.py:36: FutureWarning: pandas.Int64Index is deprecated and will be removed from pandas in a future version. Use pandas.Index with the appropriate dtype instead.\n",
      "  from pandas import MultiIndex, Int64Index\n",
      "\u001b[35m\u001b[1mMetaflow 2.5.3\u001b[0m\u001b[35m\u001b[22m executing \u001b[0m\u001b[31m\u001b[1mSerializeXGBDataFlow\u001b[0m\u001b[35m\u001b[22m\u001b[0m\u001b[35m\u001b[22m for \u001b[0m\u001b[31m\u001b[1muser:hamel\u001b[0m\u001b[35m\u001b[22m\u001b[K\u001b[0m\u001b[35m\u001b[22m\u001b[0m\n",
      "\u001b[35m\u001b[22mValidating your flow...\u001b[K\u001b[0m\u001b[35m\u001b[22m\u001b[0m\n",
      "\u001b[32m\u001b[1m    The graph looks good!\u001b[K\u001b[0m\u001b[32m\u001b[1m\u001b[0m\n",
      "\u001b[35m\u001b[22mRunning pylint...\u001b[K\u001b[0m\u001b[35m\u001b[22m\u001b[0m\n",
      "\u001b[32m\u001b[1m    Pylint is happy!\u001b[K\u001b[0m\u001b[32m\u001b[1m\u001b[0m\n",
      "\u001b[35m2022-03-30 07:04:02.315 \u001b[0m\u001b[1mWorkflow starting (run-id 1648649042312116):\u001b[0m\n",
      "\u001b[35m2022-03-30 07:04:02.322 \u001b[0m\u001b[32m[1648649042312116/start/1 (pid 2459)] \u001b[0m\u001b[1mTask is starting.\u001b[0m\n",
      "\u001b[35m2022-03-30 07:04:03.122 \u001b[0m\u001b[32m[1648649042312116/start/1 (pid 2459)] \u001b[0m\u001b[22m/Users/hamel/opt/anaconda3/lib/python3.9/site-packages/xgboost/compat.py:36: FutureWarning: pandas.Int64Index is deprecated and will be removed from pandas in a future version. Use pandas.Index with the appropriate dtype instead.\u001b[0m\n",
      "\u001b[35m2022-03-30 07:04:03.508 \u001b[0m\u001b[32m[1648649042312116/start/1 (pid 2459)] \u001b[0m\u001b[22mfrom pandas import MultiIndex, Int64Index\u001b[0m\n",
      "\u001b[35m2022-03-30 07:04:03.510 \u001b[0m\u001b[32m[1648649042312116/start/1 (pid 2459)] \u001b[0m\u001b[1mTask finished successfully.\u001b[0m\n",
      "\u001b[35m2022-03-30 07:04:03.517 \u001b[0m\u001b[32m[1648649042312116/end/2 (pid 2462)] \u001b[0m\u001b[1mTask is starting.\u001b[0m\n",
      "\u001b[35m2022-03-30 07:04:04.315 \u001b[0m\u001b[32m[1648649042312116/end/2 (pid 2462)] \u001b[0m\u001b[22m/Users/hamel/opt/anaconda3/lib/python3.9/site-packages/xgboost/compat.py:36: FutureWarning: pandas.Int64Index is deprecated and will be removed from pandas in a future version. Use pandas.Index with the appropriate dtype instead.\u001b[0m\n",
      "\u001b[35m2022-03-30 07:04:04.563 \u001b[0m\u001b[32m[1648649042312116/end/2 (pid 2462)] \u001b[0m\u001b[22mthere are 5 rows in the data.\u001b[0m\n",
      "\u001b[35m2022-03-30 07:04:04.705 \u001b[0m\u001b[32m[1648649042312116/end/2 (pid 2462)] \u001b[0m\u001b[22mfrom pandas import MultiIndex, Int64Index\u001b[0m\n",
      "\u001b[35m2022-03-30 07:04:04.707 \u001b[0m\u001b[32m[1648649042312116/end/2 (pid 2462)] \u001b[0m\u001b[1mTask finished successfully.\u001b[0m\n",
      "\u001b[35m2022-03-30 07:04:04.707 \u001b[0m\u001b[1mDone!\u001b[0m\n",
      "\u001b[0m"
     ]
    }
   ],
   "source": [
    "#meta:filter_words=FutureWarning,MultiIndex\n",
    "#meta:show_steps=end\n",
    "!python serialize_xgb_dmatrix.py run"
   ]
  }
 ],
 "metadata": {
  "kernelspec": {
   "display_name": "Python 3.9.7 ('base')",
   "language": "python",
   "name": "python397jvsc74a57bd042fd40e048e0585f88ec242f050f7ef0895cf845a8dd1159352394e5826cd102"
  },
  "language_info": {
   "codemirror_mode": {
    "name": "ipython",
    "version": 3
   },
   "file_extension": ".py",
   "mimetype": "text/x-python",
   "name": "python",
   "nbconvert_exporter": "python",
   "pygments_lexer": "ipython3",
   "version": "3.9.7"
  }
 },
 "nbformat": 4,
 "nbformat_minor": 5
}
