{
 "cells": [
  {
   "cell_type": "code",
   "execution_count": 1,
   "id": "85d00568-ab6d-4694-8d30-645315266d62",
   "metadata": {},
   "outputs": [],
   "source": [
    "from fastcore.all import test_eq\n",
    "from nbdoc.showdoc import ShowDoc"
   ]
  },
  {
   "cell_type": "code",
   "execution_count": 2,
   "id": "940bfdde-1a52-4f41-9d64-fc302dcbc561",
   "metadata": {},
   "outputs": [
    {
     "data": {
      "text/html": [
       "<HTMLRemove>\n",
       "<h3> <code>function</code> <span style=\"color:Brown\">test_eq</span> <em>(a, b)</em><a href=\"https://github.com/fastcore/tree/masterhttps://github.com/fastai/fastcore/tree/master/fastcore/test.py#L34\" style=\"float:right\">[source]</a></h3><p><blockquote>`test`&nbsp;that&nbsp;`a==b`</blockquote></p>\n",
       "</HTMLRemove>\n",
       "<DocSection type=\"function\" name=\"test_eq\" module=\"fastcore.test\" link=\"https://github.com/fastcore/tree/masterhttps://github.com/fastai/fastcore/tree/master/fastcore/test.py#L34\">\n",
       "<SigArgSection>\n",
       "<SigArg name=\"a\" /><SigArg name=\"b\" />\n",
       "</SigArgSection>\n",
       "<Description summary=\"`test` that `a==b`\" />\n",
       "\n",
       "</DocSection>"
      ],
      "text/plain": [
       "<nbdoc.showdoc.ShowDoc at 0x7fa6927f6a00>"
      ]
     },
     "execution_count": 2,
     "metadata": {},
     "output_type": "execute_result"
    }
   ],
   "source": [
    "#some comment\n",
    "ShowDoc(test_eq)"
   ]
  }
 ],
 "metadata": {
  "kernelspec": {
   "display_name": "Python 3.9.7 ('base')",
   "language": "python",
   "name": "python397jvsc74a57bd042fd40e048e0585f88ec242f050f7ef0895cf845a8dd1159352394e5826cd102"
  },
  "language_info": {
   "codemirror_mode": {
    "name": "ipython",
    "version": 3
   },
   "file_extension": ".py",
   "mimetype": "text/x-python",
   "name": "python",
   "nbconvert_exporter": "python",
   "pygments_lexer": "ipython3",
   "version": "3.9.7"
  }
 },
 "nbformat": 4,
 "nbformat_minor": 5
}
